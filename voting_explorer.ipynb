{
 "cells": [
  {
   "cell_type": "markdown",
   "metadata": {},
   "source": [
    "# symmetric_quantile-normalized_score"
   ]
  },
  {
   "cell_type": "markdown",
   "metadata": {},
   "source": [
    "## Import necessary packages"
   ]
  },
  {
   "cell_type": "code",
   "execution_count": 300,
   "metadata": {},
   "outputs": [],
   "source": [
    "import numpy as np\n",
    "import pandas as pd\n",
    "import matplotlib.pyplot as plt\n",
    "from matplotlib.colors import LinearSegmentedColormap\n",
    "import seaborn as sns"
   ]
  },
  {
   "cell_type": "markdown",
   "metadata": {},
   "source": [
    "## Initialize the ballot set dataframe\n",
    "This can also be loaded in from a .csv file.\n",
    "\n",
    "Each row is a voter, each column is a candidate."
   ]
  },
  {
   "cell_type": "code",
   "execution_count": 301,
   "metadata": {},
   "outputs": [
    {
     "data": {
      "text/html": [
       "<div>\n",
       "<style scoped>\n",
       "    .dataframe tbody tr th:only-of-type {\n",
       "        vertical-align: middle;\n",
       "    }\n",
       "\n",
       "    .dataframe tbody tr th {\n",
       "        vertical-align: top;\n",
       "    }\n",
       "\n",
       "    .dataframe thead th {\n",
       "        text-align: right;\n",
       "    }\n",
       "</style>\n",
       "<table border=\"1\" class=\"dataframe\">\n",
       "  <thead>\n",
       "    <tr style=\"text-align: right;\">\n",
       "      <th></th>\n",
       "      <th>0</th>\n",
       "      <th>1</th>\n",
       "      <th>2</th>\n",
       "      <th>3</th>\n",
       "    </tr>\n",
       "  </thead>\n",
       "  <tbody>\n",
       "    <tr>\n",
       "      <th>EVELYN</th>\n",
       "      <td>1</td>\n",
       "      <td>0</td>\n",
       "      <td>0</td>\n",
       "      <td>10</td>\n",
       "    </tr>\n",
       "    <tr>\n",
       "      <th>FRANK</th>\n",
       "      <td>1</td>\n",
       "      <td>10</td>\n",
       "      <td>0</td>\n",
       "      <td>0</td>\n",
       "    </tr>\n",
       "    <tr>\n",
       "      <th>GEORGIA</th>\n",
       "      <td>10</td>\n",
       "      <td>9</td>\n",
       "      <td>0</td>\n",
       "      <td>0</td>\n",
       "    </tr>\n",
       "    <tr>\n",
       "      <th>HAROLD</th>\n",
       "      <td>10</td>\n",
       "      <td>9</td>\n",
       "      <td>0</td>\n",
       "      <td>0</td>\n",
       "    </tr>\n",
       "    <tr>\n",
       "      <th>ISABEL</th>\n",
       "      <td>1</td>\n",
       "      <td>10</td>\n",
       "      <td>0</td>\n",
       "      <td>0</td>\n",
       "    </tr>\n",
       "    <tr>\n",
       "      <th>JACK</th>\n",
       "      <td>1</td>\n",
       "      <td>0</td>\n",
       "      <td>0</td>\n",
       "      <td>10</td>\n",
       "    </tr>\n",
       "  </tbody>\n",
       "</table>\n",
       "</div>"
      ],
      "text/plain": [
       "          0   1  2   3\n",
       "EVELYN    1   0  0  10\n",
       "FRANK     1  10  0   0\n",
       "GEORGIA  10   9  0   0\n",
       "HAROLD   10   9  0   0\n",
       "ISABEL    1  10  0   0\n",
       "JACK      1   0  0  10"
      ]
     },
     "execution_count": 301,
     "metadata": {},
     "output_type": "execute_result"
    }
   ],
   "source": [
    "\"\"\" score_ballot_dictionary = {\n",
    "    'EVELYN': [33, 13, 71, 32, 25, 27, 27, 32, 56, 77, 44, 20],\n",
    "    'FRANK': [42, 84, 50, 81, 43, 28, 97, 59, 2, 59, 99, 85],\n",
    "    'GEORGIA': [13, 94, 2, 87, 94, 96, 27, 19, 23, 66, 50, 21],\n",
    "    'HAROLD': [0, 104, 2, 2, 0, 3, 8, 7, 100, 5, 8, 9]\n",
    "} \"\"\"\n",
    "\n",
    "# In this example, the first column represents a Condorcet winner, but they will lose to the second column candidate under standard score voting.\n",
    "score_ballot_dictionary = {\n",
    "    'EVELYN':   [1, 0,  0, 10],\n",
    "    'FRANK':    [1, 10, 0,  0],\n",
    "    'GEORGIA':  [10, 9, 0,  0]\n",
    "}\n",
    "# symmetric quantile-normalization, in contrast, will naturally select the Condorcet winner.\n",
    "\n",
    "score_ballot_df = pd.DataFrame(score_ballot_dictionary).T\n",
    "#score_ballot_df = score_ballot_df.drop(10, axis=1)\n",
    "score_ballot_df.columns = range(len(score_ballot_df.columns))\n",
    "score_ballot_df"
   ]
  },
  {
   "cell_type": "markdown",
   "metadata": {},
   "source": [
    "## Define auxiliary functions to linearly scale score ballots to span a pre-defined range.\n",
    "\n",
    "Include a default case when a ballot has no variation."
   ]
  },
  {
   "cell_type": "code",
   "execution_count": 302,
   "metadata": {},
   "outputs": [
    {
     "data": {
      "text/html": [
       "<div>\n",
       "<style scoped>\n",
       "    .dataframe tbody tr th:only-of-type {\n",
       "        vertical-align: middle;\n",
       "    }\n",
       "\n",
       "    .dataframe tbody tr th {\n",
       "        vertical-align: top;\n",
       "    }\n",
       "\n",
       "    .dataframe thead th {\n",
       "        text-align: right;\n",
       "    }\n",
       "</style>\n",
       "<table border=\"1\" class=\"dataframe\">\n",
       "  <thead>\n",
       "    <tr style=\"text-align: right;\">\n",
       "      <th></th>\n",
       "      <th>0</th>\n",
       "      <th>1</th>\n",
       "      <th>2</th>\n",
       "      <th>3</th>\n",
       "    </tr>\n",
       "  </thead>\n",
       "  <tbody>\n",
       "    <tr>\n",
       "      <th>EVELYN</th>\n",
       "      <td>0.1</td>\n",
       "      <td>0.0</td>\n",
       "      <td>0.0</td>\n",
       "      <td>1.0</td>\n",
       "    </tr>\n",
       "    <tr>\n",
       "      <th>FRANK</th>\n",
       "      <td>0.1</td>\n",
       "      <td>1.0</td>\n",
       "      <td>0.0</td>\n",
       "      <td>0.0</td>\n",
       "    </tr>\n",
       "    <tr>\n",
       "      <th>GEORGIA</th>\n",
       "      <td>1.0</td>\n",
       "      <td>0.9</td>\n",
       "      <td>0.0</td>\n",
       "      <td>0.0</td>\n",
       "    </tr>\n",
       "    <tr>\n",
       "      <th>HAROLD</th>\n",
       "      <td>1.0</td>\n",
       "      <td>0.9</td>\n",
       "      <td>0.0</td>\n",
       "      <td>0.0</td>\n",
       "    </tr>\n",
       "    <tr>\n",
       "      <th>ISABEL</th>\n",
       "      <td>0.1</td>\n",
       "      <td>1.0</td>\n",
       "      <td>0.0</td>\n",
       "      <td>0.0</td>\n",
       "    </tr>\n",
       "    <tr>\n",
       "      <th>JACK</th>\n",
       "      <td>0.1</td>\n",
       "      <td>0.0</td>\n",
       "      <td>0.0</td>\n",
       "      <td>1.0</td>\n",
       "    </tr>\n",
       "  </tbody>\n",
       "</table>\n",
       "</div>"
      ],
      "text/plain": [
       "           0    1    2    3\n",
       "EVELYN   0.1  0.0  0.0  1.0\n",
       "FRANK    0.1  1.0  0.0  0.0\n",
       "GEORGIA  1.0  0.9  0.0  0.0\n",
       "HAROLD   1.0  0.9  0.0  0.0\n",
       "ISABEL   0.1  1.0  0.0  0.0\n",
       "JACK     0.1  0.0  0.0  1.0"
      ]
     },
     "execution_count": 302,
     "metadata": {},
     "output_type": "execute_result"
    }
   ],
   "source": [
    "def get_scaled_score_ballot(score_ballot, min=0, max=1):\n",
    "    score_ballot = score_ballot\n",
    "    max_score = np.max(score_ballot)\n",
    "    min_score = np.min(score_ballot)\n",
    "\n",
    "    score_range = max_score - min_score\n",
    "    mid_score = (min+max)/2\n",
    "    #print(\"score range: \", score_range)\n",
    "\n",
    "    if score_range == 0:\n",
    "        scaled_score_ballot = [mid_score for _ in score_ballot]\n",
    "    else:\n",
    "        scaled_score_ballot = [min+max*(score - min_score)/score_range for score in score_ballot]\n",
    "    return scaled_score_ballot\n",
    "\n",
    "def get_scaled_score_ballot_df(score_ballot_df, min=0, max=1):\n",
    "    scaled_score_ballot_df = score_ballot_df.copy(deep=True)\n",
    "\n",
    "    for index, score_ballot_row in score_ballot_df.iterrows():\n",
    "        this_score_ballot = score_ballot_row.values\n",
    "        #print(this_score_ballot)\n",
    "        scaled_scores = get_scaled_score_ballot(this_score_ballot, min, max)\n",
    "        scaled_score_ballot_df.loc[index] = scaled_scores  # Update the row in the DataFrame\n",
    "\n",
    "    return scaled_score_ballot_df\n",
    "\n",
    "scaled_score_ballot_df = get_scaled_score_ballot_df(score_ballot_df)\n",
    "scaled_score_ballot_df"
   ]
  },
  {
   "cell_type": "code",
   "execution_count": 303,
   "metadata": {},
   "outputs": [
    {
     "data": {
      "image/png": "[encoded data removed]",
      "text/plain": [
       "<Figure size 720x576 with 2 Axes>"
      ]
     },
     "metadata": {
      "needs_background": "light"
     },
     "output_type": "display_data"
    }
   ],
   "source": [
    "# Create a custom colormap\n",
    "# This example uses blue, but you can change 'blue' to any color of your choice.\n",
    "single_color_cmap = LinearSegmentedColormap.from_list('custom_blue', ['white', 'darkgreen'])\n",
    "\n",
    "# Create the heatmap\n",
    "plt.figure(figsize=(10, 8))\n",
    "sns.heatmap(scaled_score_ballot_df, cmap=single_color_cmap, annot=True)\n",
    "plt.title('Scaled ballot set heatmap')\n",
    "plt.show()"
   ]
  },
  {
   "cell_type": "code",
   "execution_count": 304,
   "metadata": {},
   "outputs": [
    {
     "data": {
      "image/png": "[encoded data removed]",
      "text/plain": [
       "<Figure size 720x576 with 2 Axes>"
      ]
     },
     "metadata": {
      "needs_background": "light"
     },
     "output_type": "display_data"
    }
   ],
   "source": [
    "sorted_scaled_score_matrix = np.sort(scaled_score_ballot_df, axis=1)\n",
    "single_color_cmap = LinearSegmentedColormap.from_list('custom_blue', ['white', 'darkgreen'])\n",
    "\n",
    "# Create the heatmap\n",
    "plt.figure(figsize=(10, 8))\n",
    "sns.heatmap(sorted_scaled_score_matrix, cmap=single_color_cmap, annot=True)\n",
    "plt.title('Sorted ballot scores heatmap')\n",
    "plt.show()"
   ]
  },
  {
   "cell_type": "markdown",
   "metadata": {},
   "source": [
    "## Define a function to compute the asymmetric quantile normalized score values."
   ]
  },
  {
   "cell_type": "code",
   "execution_count": 305,
   "metadata": {},
   "outputs": [
    {
     "data": {
      "text/plain": [
       "[0.0, 0.0, 0.3666666666666667, 1.0]"
      ]
     },
     "execution_count": 305,
     "metadata": {},
     "output_type": "execute_result"
    }
   ],
   "source": [
    "def get_quantile_normalized_values(score_ballot_df):\n",
    "    # Sort the values in each column\n",
    "    score_ballot_df = score_ballot_df.T\n",
    "    sorted_df = np.sort(score_ballot_df, axis=0)\n",
    "    \n",
    "    # Calculate the mean of each row across the sorted columns\n",
    "    mean_values = np.mean(sorted_df, axis=1)\n",
    "    \n",
    "    # Rank the values in the original dataframe\n",
    "    ranks = score_ballot_df.stack().groupby(score_ballot_df.rank(method='min').stack().astype(int)).mean()\n",
    "    \n",
    "    # Replace ranks with mean values\n",
    "    #normalized_df = score_ballot_df.rank(method='min').stack().astype(int).map(ranks).unstack()\n",
    "    #print(list(mean_values))\n",
    "    return list(mean_values)\n",
    "\n",
    "get_quantile_normalized_values(scaled_score_ballot_df)\n"
   ]
  },
  {
   "cell_type": "markdown",
   "metadata": {},
   "source": [
    "## Simply combine the linear scaling to compute asymmetric quantile normalized values over scaled ballots."
   ]
  },
  {
   "cell_type": "code",
   "execution_count": 306,
   "metadata": {},
   "outputs": [
    {
     "data": {
      "text/plain": [
       "array([0.        , 0.        , 0.36666667, 1.        ])"
      ]
     },
     "execution_count": 306,
     "metadata": {},
     "output_type": "execute_result"
    }
   ],
   "source": [
    "\n",
    "def get_quantile_normalized_scaled_values(score_ballot_df, min=0, max=1):\n",
    "    scaled_score_ballot_df = get_scaled_score_ballot_df(score_ballot_df, min, max)\n",
    "    return np.array(get_quantile_normalized_values(scaled_score_ballot_df))\n",
    "\n",
    "get_quantile_normalized_scaled_values(score_ballot_df)\n"
   ]
  },
  {
   "cell_type": "markdown",
   "metadata": {},
   "source": [
    "## Define a simple function to transform the asymmetric quantile normalized values into a symmetric version that preserves cancellation properties."
   ]
  },
  {
   "cell_type": "code",
   "execution_count": 307,
   "metadata": {},
   "outputs": [
    {
     "name": "stdout",
     "output_type": "stream",
     "text": [
      "[0.0, 0.31666666666666665, 0.6833333333333333, 1.0]\n"
     ]
    },
    {
     "data": {
      "image/png": "[encoded data removed]",
      "text/plain": [
       "<Figure size 432x288 with 1 Axes>"
      ]
     },
     "metadata": {
      "needs_background": "light"
     },
     "output_type": "display_data"
    }
   ],
   "source": [
    "def get_symmetric_scaled_quantile_normalized_values(score_ballot_df, min=0, max=1):\n",
    "    scaled_quantile_normalized_values = get_quantile_normalized_scaled_values(score_ballot_df, min, max)\n",
    "\n",
    "    num_values = len(scaled_quantile_normalized_values)\n",
    "\n",
    "    symmetric_scaled_quantile_normalized_values = [(scaled_quantile_normalized_values[k] + (max-scaled_quantile_normalized_values[(num_values -1) - k]))/2 for k in range(num_values)]\n",
    "\n",
    "    return symmetric_scaled_quantile_normalized_values\n",
    "\n",
    "symmetric_scaled_quantile_normalized_values=get_symmetric_scaled_quantile_normalized_values(score_ballot_df)\n",
    "plt.plot(symmetric_scaled_quantile_normalized_values)\n",
    "print(symmetric_scaled_quantile_normalized_values)"
   ]
  },
  {
   "cell_type": "markdown",
   "metadata": {},
   "source": [
    "## Modify ordinary quantile normalization by replacing asymmetric quantile values with their symmetrical adjusted values.\n",
    "\n",
    "Adjustments are also made to account for repeated values. When values are tied in rank, they are assigned the mean of the values corresponding to the ranks they would normally represent if they were different. This still preserves symmetry and hence the desired cancellation properties."
   ]
  },
  {
   "cell_type": "code",
   "execution_count": 308,
   "metadata": {},
   "outputs": [
    {
     "name": "stdout",
     "output_type": "stream",
     "text": [
      "Symmetric quantile-normalized score ballot set: \n",
      "\n"
     ]
    },
    {
     "data": {
      "text/html": [
       "<div>\n",
       "<style scoped>\n",
       "    .dataframe tbody tr th:only-of-type {\n",
       "        vertical-align: middle;\n",
       "    }\n",
       "\n",
       "    .dataframe tbody tr th {\n",
       "        vertical-align: top;\n",
       "    }\n",
       "\n",
       "    .dataframe thead th {\n",
       "        text-align: right;\n",
       "    }\n",
       "</style>\n",
       "<table border=\"1\" class=\"dataframe\">\n",
       "  <thead>\n",
       "    <tr style=\"text-align: right;\">\n",
       "      <th></th>\n",
       "      <th>0</th>\n",
       "      <th>1</th>\n",
       "      <th>2</th>\n",
       "      <th>3</th>\n",
       "    </tr>\n",
       "  </thead>\n",
       "  <tbody>\n",
       "    <tr>\n",
       "      <th>EVELYN</th>\n",
       "      <td>0.683333</td>\n",
       "      <td>0.000000</td>\n",
       "      <td>0.316667</td>\n",
       "      <td>1.000000</td>\n",
       "    </tr>\n",
       "    <tr>\n",
       "      <th>FRANK</th>\n",
       "      <td>0.683333</td>\n",
       "      <td>1.000000</td>\n",
       "      <td>0.000000</td>\n",
       "      <td>0.316667</td>\n",
       "    </tr>\n",
       "    <tr>\n",
       "      <th>GEORGIA</th>\n",
       "      <td>1.000000</td>\n",
       "      <td>0.683333</td>\n",
       "      <td>0.000000</td>\n",
       "      <td>0.316667</td>\n",
       "    </tr>\n",
       "    <tr>\n",
       "      <th>HAROLD</th>\n",
       "      <td>1.000000</td>\n",
       "      <td>0.683333</td>\n",
       "      <td>0.000000</td>\n",
       "      <td>0.316667</td>\n",
       "    </tr>\n",
       "    <tr>\n",
       "      <th>ISABEL</th>\n",
       "      <td>0.683333</td>\n",
       "      <td>1.000000</td>\n",
       "      <td>0.000000</td>\n",
       "      <td>0.316667</td>\n",
       "    </tr>\n",
       "    <tr>\n",
       "      <th>JACK</th>\n",
       "      <td>0.683333</td>\n",
       "      <td>0.000000</td>\n",
       "      <td>0.316667</td>\n",
       "      <td>1.000000</td>\n",
       "    </tr>\n",
       "  </tbody>\n",
       "</table>\n",
       "</div>"
      ],
      "text/plain": [
       "                0         1         2         3\n",
       "EVELYN   0.683333  0.000000  0.316667  1.000000\n",
       "FRANK    0.683333  1.000000  0.000000  0.316667\n",
       "GEORGIA  1.000000  0.683333  0.000000  0.316667\n",
       "HAROLD   1.000000  0.683333  0.000000  0.316667\n",
       "ISABEL   0.683333  1.000000  0.000000  0.316667\n",
       "JACK     0.683333  0.000000  0.316667  1.000000"
      ]
     },
     "execution_count": 308,
     "metadata": {},
     "output_type": "execute_result"
    }
   ],
   "source": [
    "def get_symmetric_scaled_quantile_normalized_score_ballot_df(score_ballot_df, min=0, max=1):\n",
    "    #print(score_ballot_df)\n",
    "    # Rank the values in each column\n",
    "    symmetric_scaled_quantile_normalized_score_values = get_symmetric_scaled_quantile_normalized_values(score_ballot_df, min, max)\n",
    "    #print((symmetric_scaled_quantile_normalized_score_values))\n",
    "    #print('\\n')\n",
    "\n",
    "    #print(\"\\nOriginal score ballots:\\n\", score_ballot_df)\n",
    "\n",
    "    score_rankings_df = score_ballot_df.rank(axis=1, method='first').astype(int) -1\n",
    "    #print(\"\\nScore ranking ballots:\\n \", score_rankings_df)\n",
    "    #print('\\n')\n",
    "    #print(score_ballot_df)\n",
    "\n",
    "    as_if_unique_normalized_df = score_rankings_df.applymap(lambda x: symmetric_scaled_quantile_normalized_score_values[x])\n",
    "    #print(\"\\nNormalized as if scores are unique:\\n \", as_if_unique_normalized_df)\n",
    "\n",
    "    corrected_df = as_if_unique_normalized_df.copy()\n",
    "\n",
    "    for index, row in score_ballot_df.iterrows():\n",
    "        # Get the scores and their corresponding ranks from the original dataframe\n",
    "        scores_with_ranks = row.rank(method='min').astype(int) -1\n",
    "        #print(\"scores with ranks: \", scores_with_ranks.values)\n",
    "        unique_scores = row.unique()\n",
    "        \n",
    "        for score in unique_scores:\n",
    "            # Find the ranks (indices) associated with this score\n",
    "            ranks_for_score = scores_with_ranks[row == score].values\n",
    "            # Calculate the average of the symmetric scaled values for these ranks\n",
    "            avg_value = as_if_unique_normalized_df.loc[index, ranks_for_score].mean()\n",
    "            # Assign this average back to the corresponding locations in the corrected dataframe\n",
    "            corrected_df.loc[index, ranks_for_score] = avg_value\n",
    "\n",
    "    return corrected_df\n",
    "\n",
    "symmetric_scaled_quantile_normalized_score_ballot_df=get_symmetric_scaled_quantile_normalized_score_ballot_df(score_ballot_df)\n",
    "print(\"Symmetric quantile-normalized score ballot set: \\n\")\n",
    "symmetric_scaled_quantile_normalized_score_ballot_df\n",
    "#print(score_ballot_df)"
   ]
  },
  {
   "cell_type": "code",
   "execution_count": 309,
   "metadata": {},
   "outputs": [
    {
     "data": {
      "image/png": "[encoded data removed]",
      "text/plain": [
       "<Figure size 720x576 with 2 Axes>"
      ]
     },
     "metadata": {
      "needs_background": "light"
     },
     "output_type": "display_data"
    }
   ],
   "source": [
    "# Create a custom colormap\n",
    "# This example uses blue, but you can change 'blue' to any color of your choice.\n",
    "single_color_cmap = LinearSegmentedColormap.from_list('custom_blue', ['white', 'darkgreen'])\n",
    "\n",
    "# Create the heatmap\n",
    "plt.figure(figsize=(10, 8))\n",
    "sns.heatmap(symmetric_scaled_quantile_normalized_score_ballot_df, cmap=single_color_cmap, annot=True)\n",
    "plt.title('Scaled ballot set heatmap')\n",
    "plt.show()"
   ]
  },
  {
   "cell_type": "code",
   "execution_count": 310,
   "metadata": {},
   "outputs": [
    {
     "data": {
      "image/png": "[encoded data removed]",
      "text/plain": [
       "<Figure size 720x576 with 2 Axes>"
      ]
     },
     "metadata": {
      "needs_background": "light"
     },
     "output_type": "display_data"
    }
   ],
   "source": [
    "sorted_scaled_score_matrix = np.sort(symmetric_scaled_quantile_normalized_score_ballot_df, axis=1)\n",
    "single_color_cmap = LinearSegmentedColormap.from_list('custom_blue', ['white', 'darkgreen'])\n",
    "\n",
    "# Create the heatmap\n",
    "plt.figure(figsize=(10, 8))\n",
    "sns.heatmap(sorted_scaled_score_matrix, cmap=single_color_cmap, annot=True)\n",
    "plt.title('Sorted ballot scores heatmap')\n",
    "plt.show()"
   ]
  },
  {
   "cell_type": "markdown",
   "metadata": {},
   "source": [
    "## Compare with original scaled score ballot set."
   ]
  },
  {
   "cell_type": "code",
   "execution_count": 311,
   "metadata": {},
   "outputs": [
    {
     "data": {
      "text/html": [
       "<div>\n",
       "<style scoped>\n",
       "    .dataframe tbody tr th:only-of-type {\n",
       "        vertical-align: middle;\n",
       "    }\n",
       "\n",
       "    .dataframe tbody tr th {\n",
       "        vertical-align: top;\n",
       "    }\n",
       "\n",
       "    .dataframe thead th {\n",
       "        text-align: right;\n",
       "    }\n",
       "</style>\n",
       "<table border=\"1\" class=\"dataframe\">\n",
       "  <thead>\n",
       "    <tr style=\"text-align: right;\">\n",
       "      <th></th>\n",
       "      <th>0</th>\n",
       "      <th>1</th>\n",
       "      <th>2</th>\n",
       "      <th>3</th>\n",
       "    </tr>\n",
       "  </thead>\n",
       "  <tbody>\n",
       "    <tr>\n",
       "      <th>EVELYN</th>\n",
       "      <td>0.1</td>\n",
       "      <td>0.0</td>\n",
       "      <td>0.0</td>\n",
       "      <td>1.0</td>\n",
       "    </tr>\n",
       "    <tr>\n",
       "      <th>FRANK</th>\n",
       "      <td>0.1</td>\n",
       "      <td>1.0</td>\n",
       "      <td>0.0</td>\n",
       "      <td>0.0</td>\n",
       "    </tr>\n",
       "    <tr>\n",
       "      <th>GEORGIA</th>\n",
       "      <td>1.0</td>\n",
       "      <td>0.9</td>\n",
       "      <td>0.0</td>\n",
       "      <td>0.0</td>\n",
       "    </tr>\n",
       "    <tr>\n",
       "      <th>HAROLD</th>\n",
       "      <td>1.0</td>\n",
       "      <td>0.9</td>\n",
       "      <td>0.0</td>\n",
       "      <td>0.0</td>\n",
       "    </tr>\n",
       "    <tr>\n",
       "      <th>ISABEL</th>\n",
       "      <td>0.1</td>\n",
       "      <td>1.0</td>\n",
       "      <td>0.0</td>\n",
       "      <td>0.0</td>\n",
       "    </tr>\n",
       "    <tr>\n",
       "      <th>JACK</th>\n",
       "      <td>0.1</td>\n",
       "      <td>0.0</td>\n",
       "      <td>0.0</td>\n",
       "      <td>1.0</td>\n",
       "    </tr>\n",
       "  </tbody>\n",
       "</table>\n",
       "</div>"
      ],
      "text/plain": [
       "           0    1    2    3\n",
       "EVELYN   0.1  0.0  0.0  1.0\n",
       "FRANK    0.1  1.0  0.0  0.0\n",
       "GEORGIA  1.0  0.9  0.0  0.0\n",
       "HAROLD   1.0  0.9  0.0  0.0\n",
       "ISABEL   0.1  1.0  0.0  0.0\n",
       "JACK     0.1  0.0  0.0  1.0"
      ]
     },
     "execution_count": 311,
     "metadata": {},
     "output_type": "execute_result"
    }
   ],
   "source": [
    "scaled_score_ballot_df"
   ]
  },
  {
   "cell_type": "markdown",
   "metadata": {},
   "source": [
    "## Observe the election results by tallying symmetric quantile-normalized score values for each candidate.\n",
    "\n",
    "Here an average is computed."
   ]
  },
  {
   "cell_type": "code",
   "execution_count": 312,
   "metadata": {},
   "outputs": [
    {
     "data": {
      "image/png": "[encoded data removed]",
      "text/plain": [
       "<Figure size 432x288 with 1 Axes>"
      ]
     },
     "metadata": {
      "needs_background": "light"
     },
     "output_type": "display_data"
    }
   ],
   "source": [
    "column_averages = symmetric_scaled_quantile_normalized_score_ballot_df.mean(axis=0)\n",
    "column_averages\n",
    "plt.plot(column_averages)\n",
    "plt.title('Symmetric Quantile-Normalized Candidate Scores')\n",
    "plt.show()"
   ]
  },
  {
   "cell_type": "markdown",
   "metadata": {},
   "source": [
    "## Compare with result from scaled score ballot set."
   ]
  },
  {
   "cell_type": "code",
   "execution_count": 313,
   "metadata": {},
   "outputs": [
    {
     "data": {
      "image/png": "[encoded data removed]",
      "text/plain": [
       "<Figure size 432x288 with 1 Axes>"
      ]
     },
     "metadata": {
      "needs_background": "light"
     },
     "output_type": "display_data"
    }
   ],
   "source": [
    "column_averages = scaled_score_ballot_df.mean(axis=0)\n",
    "column_averages\n",
    "plt.plot(column_averages)\n",
    "plt.title('Scale-Normalized Candidate Scores')\n",
    "plt.show()"
   ]
  }
 ],
 "metadata": {
  "kernelspec": {
   "display_name": "explore",
   "language": "python",
   "name": "python3"
  },
  "language_info": {
   "codemirror_mode": {
    "name": "ipython",
    "version": 3
   },
   "file_extension": ".py",
   "mimetype": "text/x-python",
   "name": "python",
   "nbconvert_exporter": "python",
   "pygments_lexer": "ipython3",
   "version": "3.6.15"
  }
 },
 "nbformat": 4,
 "nbformat_minor": 2
}
