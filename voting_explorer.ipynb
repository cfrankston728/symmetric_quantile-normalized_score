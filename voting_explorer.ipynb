{
 "cells": [
  {
   "cell_type": "markdown",
   "metadata": {},
   "source": [
    "# symmetric_quantile-normalized_score"
   ]
  },
  {
   "cell_type": "markdown",
   "metadata": {},
   "source": [
    "## Import necessary packages"
   ]
  },
  {
   "cell_type": "code",
   "execution_count": 1,
   "metadata": {},
   "outputs": [],
   "source": [
    "import numpy as np\n",
    "import pandas as pd\n",
    "import matplotlib.pyplot as plt"
   ]
  },
  {
   "cell_type": "markdown",
   "metadata": {},
   "source": [
    "## Initialize the ballot set dataframe\n",
    "This can also be loaded in from a .csv file."
   ]
  },
  {
   "cell_type": "code",
   "execution_count": 150,
   "metadata": {},
   "outputs": [
    {
     "data": {
      "text/html": [
       "<div>\n",
       "<style scoped>\n",
       "    .dataframe tbody tr th:only-of-type {\n",
       "        vertical-align: middle;\n",
       "    }\n",
       "\n",
       "    .dataframe tbody tr th {\n",
       "        vertical-align: top;\n",
       "    }\n",
       "\n",
       "    .dataframe thead th {\n",
       "        text-align: right;\n",
       "    }\n",
       "</style>\n",
       "<table border=\"1\" class=\"dataframe\">\n",
       "  <thead>\n",
       "    <tr style=\"text-align: right;\">\n",
       "      <th></th>\n",
       "      <th>0</th>\n",
       "      <th>1</th>\n",
       "      <th>2</th>\n",
       "      <th>3</th>\n",
       "      <th>4</th>\n",
       "      <th>5</th>\n",
       "      <th>6</th>\n",
       "      <th>7</th>\n",
       "      <th>8</th>\n",
       "      <th>9</th>\n",
       "      <th>10</th>\n",
       "      <th>11</th>\n",
       "    </tr>\n",
       "  </thead>\n",
       "  <tbody>\n",
       "    <tr>\n",
       "      <th>STEPHEN</th>\n",
       "      <td>27</td>\n",
       "      <td>21</td>\n",
       "      <td>25</td>\n",
       "      <td>26</td>\n",
       "      <td>17</td>\n",
       "      <td>49</td>\n",
       "      <td>65</td>\n",
       "      <td>18</td>\n",
       "      <td>45</td>\n",
       "      <td>75</td>\n",
       "      <td>9</td>\n",
       "      <td>31</td>\n",
       "    </tr>\n",
       "    <tr>\n",
       "      <th>TRAVIS</th>\n",
       "      <td>40</td>\n",
       "      <td>40</td>\n",
       "      <td>40</td>\n",
       "      <td>50</td>\n",
       "      <td>25</td>\n",
       "      <td>60</td>\n",
       "      <td>75</td>\n",
       "      <td>2</td>\n",
       "      <td>85</td>\n",
       "      <td>95</td>\n",
       "      <td>90</td>\n",
       "      <td>75</td>\n",
       "    </tr>\n",
       "    <tr>\n",
       "      <th>CONNOR</th>\n",
       "      <td>19</td>\n",
       "      <td>21</td>\n",
       "      <td>20</td>\n",
       "      <td>50</td>\n",
       "      <td>20</td>\n",
       "      <td>65</td>\n",
       "      <td>95</td>\n",
       "      <td>3</td>\n",
       "      <td>90</td>\n",
       "      <td>85</td>\n",
       "      <td>95</td>\n",
       "      <td>10</td>\n",
       "    </tr>\n",
       "    <tr>\n",
       "      <th>ITALLIA</th>\n",
       "      <td>0</td>\n",
       "      <td>0</td>\n",
       "      <td>0</td>\n",
       "      <td>0</td>\n",
       "      <td>0</td>\n",
       "      <td>100</td>\n",
       "      <td>0</td>\n",
       "      <td>0</td>\n",
       "      <td>0</td>\n",
       "      <td>90</td>\n",
       "      <td>0</td>\n",
       "      <td>0</td>\n",
       "    </tr>\n",
       "  </tbody>\n",
       "</table>\n",
       "</div>"
      ],
      "text/plain": [
       "         0   1   2   3   4    5   6   7   8   9   10  11\n",
       "STEPHEN  27  21  25  26  17   49  65  18  45  75   9  31\n",
       "TRAVIS   40  40  40  50  25   60  75   2  85  95  90  75\n",
       "CONNOR   19  21  20  50  20   65  95   3  90  85  95  10\n",
       "ITALLIA   0   0   0   0   0  100   0   0   0  90   0   0"
      ]
     },
     "execution_count": 150,
     "metadata": {},
     "output_type": "execute_result"
    }
   ],
   "source": [
    "score_ballot_dictionary = {\n",
    "    'ALICE': [27, 21, 25, 26, 17, 49, 65, 18, 45, 75, 9, 31],\n",
    "    'BOB': [40, 40, 40, 50, 25, 60, 75, 2, 85, 95, 90, 75],\n",
    "    'CHARLIE': [19, 21, 20, 50, 20, 65, 95, 3, 90, 85, 95, 10],\n",
    "    'DENISE': [0, 0, 0, 0, 0, 100, 0, 0, 0, 90, 0, 0],\n",
    "}\n",
    "\n",
    "score_ballot_df = pd.DataFrame(score_ballot_dictionary).T\n",
    "score_ballot_df"
   ]
  },
  {
   "cell_type": "markdown",
   "metadata": {},
   "source": [
    "## Define auxiliary functions to linearly scale score ballots to span a pre-defined range.\n",
    "\n",
    "Include a default case when a ballot has no variation."
   ]
  },
  {
   "cell_type": "code",
   "execution_count": 151,
   "metadata": {},
   "outputs": [
    {
     "data": {
      "text/html": [
       "<div>\n",
       "<style scoped>\n",
       "    .dataframe tbody tr th:only-of-type {\n",
       "        vertical-align: middle;\n",
       "    }\n",
       "\n",
       "    .dataframe tbody tr th {\n",
       "        vertical-align: top;\n",
       "    }\n",
       "\n",
       "    .dataframe thead th {\n",
       "        text-align: right;\n",
       "    }\n",
       "</style>\n",
       "<table border=\"1\" class=\"dataframe\">\n",
       "  <thead>\n",
       "    <tr style=\"text-align: right;\">\n",
       "      <th></th>\n",
       "      <th>0</th>\n",
       "      <th>1</th>\n",
       "      <th>2</th>\n",
       "      <th>3</th>\n",
       "      <th>4</th>\n",
       "      <th>5</th>\n",
       "      <th>6</th>\n",
       "      <th>7</th>\n",
       "      <th>8</th>\n",
       "      <th>9</th>\n",
       "      <th>10</th>\n",
       "      <th>11</th>\n",
       "    </tr>\n",
       "  </thead>\n",
       "  <tbody>\n",
       "    <tr>\n",
       "      <th>STEPHEN</th>\n",
       "      <td>0.272727</td>\n",
       "      <td>0.181818</td>\n",
       "      <td>0.242424</td>\n",
       "      <td>0.257576</td>\n",
       "      <td>0.121212</td>\n",
       "      <td>0.606061</td>\n",
       "      <td>0.848485</td>\n",
       "      <td>0.136364</td>\n",
       "      <td>0.545455</td>\n",
       "      <td>1.000000</td>\n",
       "      <td>0.000000</td>\n",
       "      <td>0.333333</td>\n",
       "    </tr>\n",
       "    <tr>\n",
       "      <th>TRAVIS</th>\n",
       "      <td>0.408602</td>\n",
       "      <td>0.408602</td>\n",
       "      <td>0.408602</td>\n",
       "      <td>0.516129</td>\n",
       "      <td>0.247312</td>\n",
       "      <td>0.623656</td>\n",
       "      <td>0.784946</td>\n",
       "      <td>0.000000</td>\n",
       "      <td>0.892473</td>\n",
       "      <td>1.000000</td>\n",
       "      <td>0.946237</td>\n",
       "      <td>0.784946</td>\n",
       "    </tr>\n",
       "    <tr>\n",
       "      <th>CONNOR</th>\n",
       "      <td>0.173913</td>\n",
       "      <td>0.195652</td>\n",
       "      <td>0.184783</td>\n",
       "      <td>0.510870</td>\n",
       "      <td>0.184783</td>\n",
       "      <td>0.673913</td>\n",
       "      <td>1.000000</td>\n",
       "      <td>0.000000</td>\n",
       "      <td>0.945652</td>\n",
       "      <td>0.891304</td>\n",
       "      <td>1.000000</td>\n",
       "      <td>0.076087</td>\n",
       "    </tr>\n",
       "    <tr>\n",
       "      <th>ITALLIA</th>\n",
       "      <td>0.000000</td>\n",
       "      <td>0.000000</td>\n",
       "      <td>0.000000</td>\n",
       "      <td>0.000000</td>\n",
       "      <td>0.000000</td>\n",
       "      <td>1.000000</td>\n",
       "      <td>0.000000</td>\n",
       "      <td>0.000000</td>\n",
       "      <td>0.000000</td>\n",
       "      <td>0.900000</td>\n",
       "      <td>0.000000</td>\n",
       "      <td>0.000000</td>\n",
       "    </tr>\n",
       "  </tbody>\n",
       "</table>\n",
       "</div>"
      ],
      "text/plain": [
       "               0         1         2         3         4         5         6   \\\n",
       "STEPHEN  0.272727  0.181818  0.242424  0.257576  0.121212  0.606061  0.848485   \n",
       "TRAVIS   0.408602  0.408602  0.408602  0.516129  0.247312  0.623656  0.784946   \n",
       "CONNOR   0.173913  0.195652  0.184783  0.510870  0.184783  0.673913  1.000000   \n",
       "ITALLIA  0.000000  0.000000  0.000000  0.000000  0.000000  1.000000  0.000000   \n",
       "\n",
       "               7         8         9         10        11  \n",
       "STEPHEN  0.136364  0.545455  1.000000  0.000000  0.333333  \n",
       "TRAVIS   0.000000  0.892473  1.000000  0.946237  0.784946  \n",
       "CONNOR   0.000000  0.945652  0.891304  1.000000  0.076087  \n",
       "ITALLIA  0.000000  0.000000  0.900000  0.000000  0.000000  "
      ]
     },
     "execution_count": 151,
     "metadata": {},
     "output_type": "execute_result"
    }
   ],
   "source": [
    "def get_scaled_score_ballot(score_ballot, min=0, max=1):\n",
    "    score_ballot = score_ballot\n",
    "    max_score = np.max(score_ballot)\n",
    "    min_score = np.min(score_ballot)\n",
    "\n",
    "    score_range = max_score - min_score\n",
    "    #print(\"score range: \", score_range)\n",
    "\n",
    "    if score_range == 0:\n",
    "        scaled_score_ballot = [1/2 for _ in score_ballot]\n",
    "    else:\n",
    "        scaled_score_ballot = [min+max*(score - min_score)/score_range for score in score_ballot]\n",
    "    return scaled_score_ballot\n",
    "\n",
    "def get_scaled_score_ballot_df(score_ballot_df, min=0, max=1):\n",
    "    scaled_score_ballot_df = score_ballot_df.copy(deep=True)\n",
    "\n",
    "    for index, score_ballot_row in score_ballot_df.iterrows():\n",
    "        this_score_ballot = score_ballot_row.values\n",
    "        #print(this_score_ballot)\n",
    "        scaled_scores = get_scaled_score_ballot(this_score_ballot, min, max)\n",
    "        scaled_score_ballot_df.loc[index] = scaled_scores  # Update the row in the DataFrame\n",
    "\n",
    "    return scaled_score_ballot_df\n",
    "\n",
    "#print(get_scaled_score_ballot([27, 21, 25, 26, 17, 49, 65, 18, 45, 75, 9, 31]))\n",
    "#print(get_scaled_score_ballot(score_ballot_dictionary['STEPHEN']))\n",
    "scaled_score_ballot_df = get_scaled_score_ballot_df(score_ballot_df)\n",
    "scaled_score_ballot_df"
   ]
  },
  {
   "cell_type": "markdown",
   "metadata": {},
   "source": [
    "## Define a function to compute the asymmetric quantile normalized score values."
   ]
  },
  {
   "cell_type": "code",
   "execution_count": 168,
   "metadata": {},
   "outputs": [
    {
     "data": {
      "text/plain": [
       "[0.0,\n",
       " 0.1111527264227124,\n",
       " 0.1797197075948829,\n",
       " 0.19380073526286712,\n",
       " 0.20895225041438226,\n",
       " 0.24233924093671638,\n",
       " 0.35181318798078964,\n",
       " 0.44804815334268344,\n",
       " 0.555426282459943,\n",
       " 0.6110464745633049,\n",
       " 0.9236803519061584,\n",
       " 1.0]"
      ]
     },
     "execution_count": 168,
     "metadata": {},
     "output_type": "execute_result"
    }
   ],
   "source": [
    "def get_quantile_normalized_values(score_ballot_df):\n",
    "    # Sort the values in each column\n",
    "    score_ballot_df = score_ballot_df.T\n",
    "    sorted_df = np.sort(score_ballot_df, axis=0)\n",
    "    \n",
    "    # Calculate the mean of each row across the sorted columns\n",
    "    mean_values = np.mean(sorted_df, axis=1)\n",
    "    \n",
    "    # Rank the values in the original dataframe\n",
    "    ranks = score_ballot_df.stack().groupby(score_ballot_df.rank(method='min').stack().astype(int)).mean()\n",
    "    \n",
    "    # Replace ranks with mean values\n",
    "    #normalized_df = score_ballot_df.rank(method='min').stack().astype(int).map(ranks).unstack()\n",
    "    #print(list(mean_values))\n",
    "    return list(mean_values)\n",
    "\n",
    "get_quantile_normalized_values(scaled_score_ballot_df)\n"
   ]
  },
  {
   "cell_type": "markdown",
   "metadata": {},
   "source": [
    "## Simply combine the linear scaling to compute asymmetric quantile normalized values over scaled ballots."
   ]
  },
  {
   "cell_type": "code",
   "execution_count": 218,
   "metadata": {},
   "outputs": [
    {
     "data": {
      "text/plain": [
       "array([0.        , 0.11115273, 0.17971971, 0.19380074, 0.20895225,\n",
       "       0.24233924, 0.35181319, 0.44804815, 0.55542628, 0.61104647,\n",
       "       0.92368035, 1.        ])"
      ]
     },
     "execution_count": 218,
     "metadata": {},
     "output_type": "execute_result"
    }
   ],
   "source": [
    "\n",
    "def get_quantile_normalized_scaled_values(score_ballot_df, min=0, max=1):\n",
    "    scaled_score_ballot_df = get_scaled_score_ballot_df(score_ballot_df, min, max)\n",
    "    return np.array(get_quantile_normalized_values(scaled_score_ballot_df))\n",
    "\n",
    "get_quantile_normalized_scaled_values(score_ballot_df)\n"
   ]
  },
  {
   "cell_type": "markdown",
   "metadata": {},
   "source": [
    "## Define a simple function to transform the asymmetric quantile normalized values into a symmetric version that preserves cancellation properties."
   ]
  },
  {
   "cell_type": "code",
   "execution_count": 219,
   "metadata": {},
   "outputs": [
    {
     "data": {
      "text/plain": [
       "[<matplotlib.lines.Line2D at 0x7f35d89ba4e0>]"
      ]
     },
     "execution_count": 219,
     "metadata": {},
     "output_type": "execute_result"
    },
    {
     "data": {
      "image/png": "[encoded data removed]",
      "text/plain": [
       "<Figure size 432x288 with 1 Axes>"
      ]
     },
     "metadata": {
      "needs_background": "light"
     },
     "output_type": "display_data"
    }
   ],
   "source": [
    "def get_symmetric_scaled_quantile_normalized_values(score_ballot_df, min=0, max=1):\n",
    "    scaled_quantile_normalized_values = get_quantile_normalized_scaled_values(score_ballot_df, min, max)\n",
    "\n",
    "    num_values = len(scaled_quantile_normalized_values)\n",
    "\n",
    "    symmetric_scaled_quantile_normalized_values = [(scaled_quantile_normalized_values[k] + (max-scaled_quantile_normalized_values[(num_values -1) - k]))/2 for k in range(num_values)]\n",
    "\n",
    "    return symmetric_scaled_quantile_normalized_values\n",
    "\n",
    "plt.plot(get_symmetric_scaled_quantile_normalized_values(score_ballot_df))"
   ]
  },
  {
   "cell_type": "markdown",
   "metadata": {},
   "source": [
    "## Modify ordinary quantile normalization by replacing asymmetric quantile values with their symmetrical adjusted values.\n",
    "\n",
    "Adjustments are also made to account for repeated values. When values are tied in rank, they are assigned the mean of the values corresponding to the ranks they would normally represent if they were different. This still preserves symmetry and hence the desired cancellation properties."
   ]
  },
  {
   "cell_type": "code",
   "execution_count": 230,
   "metadata": {},
   "outputs": [
    {
     "data": {
      "text/html": [
       "<div>\n",
       "<style scoped>\n",
       "    .dataframe tbody tr th:only-of-type {\n",
       "        vertical-align: middle;\n",
       "    }\n",
       "\n",
       "    .dataframe tbody tr th {\n",
       "        vertical-align: top;\n",
       "    }\n",
       "\n",
       "    .dataframe thead th {\n",
       "        text-align: right;\n",
       "    }\n",
       "</style>\n",
       "<table border=\"1\" class=\"dataframe\">\n",
       "  <thead>\n",
       "    <tr style=\"text-align: right;\">\n",
       "      <th></th>\n",
       "      <th>0</th>\n",
       "      <th>1</th>\n",
       "      <th>2</th>\n",
       "      <th>3</th>\n",
       "      <th>4</th>\n",
       "      <th>5</th>\n",
       "      <th>6</th>\n",
       "      <th>7</th>\n",
       "      <th>8</th>\n",
       "      <th>9</th>\n",
       "      <th>10</th>\n",
       "      <th>11</th>\n",
       "    </tr>\n",
       "  </thead>\n",
       "  <tbody>\n",
       "    <tr>\n",
       "      <th>STEPHEN</th>\n",
       "      <td>0.554737</td>\n",
       "      <td>0.319187</td>\n",
       "      <td>0.380452</td>\n",
       "      <td>0.445263</td>\n",
       "      <td>0.093736</td>\n",
       "      <td>0.715663</td>\n",
       "      <td>0.906264</td>\n",
       "      <td>0.284337</td>\n",
       "      <td>0.680813</td>\n",
       "      <td>1.000000</td>\n",
       "      <td>0.000000</td>\n",
       "      <td>0.619548</td>\n",
       "    </tr>\n",
       "    <tr>\n",
       "      <th>TRAVIS</th>\n",
       "      <td>0.284337</td>\n",
       "      <td>0.319187</td>\n",
       "      <td>0.306484</td>\n",
       "      <td>0.306484</td>\n",
       "      <td>0.306484</td>\n",
       "      <td>0.554737</td>\n",
       "      <td>0.619548</td>\n",
       "      <td>0.357832</td>\n",
       "      <td>0.357832</td>\n",
       "      <td>1.000000</td>\n",
       "      <td>0.906264</td>\n",
       "      <td>0.680813</td>\n",
       "    </tr>\n",
       "    <tr>\n",
       "      <th>CONNOR</th>\n",
       "      <td>0.284337</td>\n",
       "      <td>0.445263</td>\n",
       "      <td>0.319187</td>\n",
       "      <td>0.467595</td>\n",
       "      <td>0.467595</td>\n",
       "      <td>0.619548</td>\n",
       "      <td>0.906264</td>\n",
       "      <td>0.000000</td>\n",
       "      <td>0.715663</td>\n",
       "      <td>0.680813</td>\n",
       "      <td>0.546868</td>\n",
       "      <td>0.546868</td>\n",
       "    </tr>\n",
       "    <tr>\n",
       "      <th>ITALLIA</th>\n",
       "      <td>0.460352</td>\n",
       "      <td>0.460352</td>\n",
       "      <td>0.460352</td>\n",
       "      <td>0.460352</td>\n",
       "      <td>0.460352</td>\n",
       "      <td>0.460352</td>\n",
       "      <td>0.460352</td>\n",
       "      <td>0.460352</td>\n",
       "      <td>0.460352</td>\n",
       "      <td>0.460352</td>\n",
       "      <td>0.680813</td>\n",
       "      <td>0.715663</td>\n",
       "    </tr>\n",
       "  </tbody>\n",
       "</table>\n",
       "</div>"
      ],
      "text/plain": [
       "               0         1         2         3         4         5         6   \\\n",
       "STEPHEN  0.554737  0.319187  0.380452  0.445263  0.093736  0.715663  0.906264   \n",
       "TRAVIS   0.284337  0.319187  0.306484  0.306484  0.306484  0.554737  0.619548   \n",
       "CONNOR   0.284337  0.445263  0.319187  0.467595  0.467595  0.619548  0.906264   \n",
       "ITALLIA  0.460352  0.460352  0.460352  0.460352  0.460352  0.460352  0.460352   \n",
       "\n",
       "               7         8         9         10        11  \n",
       "STEPHEN  0.284337  0.680813  1.000000  0.000000  0.619548  \n",
       "TRAVIS   0.357832  0.357832  1.000000  0.906264  0.680813  \n",
       "CONNOR   0.000000  0.715663  0.680813  0.546868  0.546868  \n",
       "ITALLIA  0.460352  0.460352  0.460352  0.680813  0.715663  "
      ]
     },
     "execution_count": 230,
     "metadata": {},
     "output_type": "execute_result"
    }
   ],
   "source": [
    "def get_symmetric_scaled_quantile_normalized_score_ballot_df(score_ballot_df, min=0, max=1):\n",
    "    #print(score_ballot_df)\n",
    "    # Rank the values in each column\n",
    "    symmetric_scaled_quantile_normalized_score_values = get_symmetric_scaled_quantile_normalized_values(score_ballot_df, min, max)\n",
    "    #print((symmetric_scaled_quantile_normalized_score_values))\n",
    "    #print('\\n')\n",
    "\n",
    "    #print(\"\\nOriginal score ballots:\\n\", score_ballot_df)\n",
    "\n",
    "    score_rankings_df = score_ballot_df.rank(axis=1, method='first').astype(int) -1\n",
    "    #print(\"\\nScore ranking ballots:\\n \", score_rankings_df)\n",
    "    #print('\\n')\n",
    "    #print(score_ballot_df)\n",
    "\n",
    "    as_if_unique_normalized_df = score_rankings_df.applymap(lambda x: symmetric_scaled_quantile_normalized_score_values[x])\n",
    "    #print(\"\\nNormalized as if scores are unique:\\n \", as_if_unique_normalized_df)\n",
    "\n",
    "    corrected_df = as_if_unique_normalized_df.copy()\n",
    "\n",
    "    for index, row in score_ballot_df.iterrows():\n",
    "        # Get the scores and their corresponding ranks from the original dataframe\n",
    "        scores_with_ranks = row.rank(method='first').astype(int) - 1\n",
    "        unique_scores = row.unique()\n",
    "        \n",
    "        for score in unique_scores:\n",
    "            # Find the ranks (indices) associated with this score\n",
    "            ranks_for_score = scores_with_ranks[row == score].values\n",
    "            # Calculate the average of the symmetric scaled values for these ranks\n",
    "            avg_value = as_if_unique_normalized_df.loc[index, ranks_for_score].mean()\n",
    "            # Assign this average back to the corresponding locations in the corrected dataframe\n",
    "            corrected_df.loc[index, ranks_for_score] = avg_value\n",
    "\n",
    "    return corrected_df\n",
    "\n",
    "symmetric_scaled_quantile_normalized_score_ballot_df=get_symmetric_scaled_quantile_normalized_score_ballot_df(score_ballot_df)\n",
    "symmetric_scaled_quantile_normalized_score_ballot_df"
   ]
  },
  {
   "cell_type": "markdown",
   "metadata": {},
   "source": [
    "## Observe the election results by tallying symmetric quantile-normalized score values for each candidate.\n",
    "\n",
    "Here an average is computed."
   ]
  },
  {
   "cell_type": "code",
   "execution_count": 240,
   "metadata": {},
   "outputs": [
    {
     "data": {
      "text/plain": [
       "Text(0.5, 1.0, 'Normalized Candidate Scores')"
      ]
     },
     "execution_count": 240,
     "metadata": {},
     "output_type": "execute_result"
    },
    {
     "data": {
      "image/png": "[encoded data removed]",
      "text/plain": [
       "<Figure size 432x288 with 1 Axes>"
      ]
     },
     "metadata": {
      "needs_background": "light"
     },
     "output_type": "display_data"
    }
   ],
   "source": [
    "column_averages = symmetric_scaled_quantile_normalized_score_ballot_df.mean(axis=0)\n",
    "column_averages\n",
    "plt.plot(column_averages)\n",
    "plt.title('Normalized Candidate Scores')"
   ]
  }
 ],
 "metadata": {
  "kernelspec": {
   "display_name": "explore",
   "language": "python",
   "name": "python3"
  },
  "language_info": {
   "codemirror_mode": {
    "name": "ipython",
    "version": 3
   },
   "file_extension": ".py",
   "mimetype": "text/x-python",
   "name": "python",
   "nbconvert_exporter": "python",
   "pygments_lexer": "ipython3",
   "version": "3.6.15"
  }
 },
 "nbformat": 4,
 "nbformat_minor": 2
}
