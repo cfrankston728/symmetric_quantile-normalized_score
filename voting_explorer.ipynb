{
 "cells": [
  {
   "cell_type": "markdown",
   "metadata": {},
   "source": [
    "# symmetric_quantile-normalized_score"
   ]
  },
  {
   "cell_type": "markdown",
   "metadata": {},
   "source": [
    "## Import necessary packages"
   ]
  },
  {
   "cell_type": "code",
   "execution_count": 16,
   "metadata": {},
   "outputs": [],
   "source": [
    "import numpy as np\n",
    "import pandas as pd\n",
    "import matplotlib.pyplot as plt"
   ]
  },
  {
   "cell_type": "markdown",
   "metadata": {},
   "source": [
    "## Initialize the ballot set dataframe\n",
    "This can also be loaded in from a .csv file."
   ]
  },
  {
   "cell_type": "code",
   "execution_count": 17,
   "metadata": {},
   "outputs": [
    {
     "data": {
      "text/html": [
       "<div>\n",
       "<style scoped>\n",
       "    .dataframe tbody tr th:only-of-type {\n",
       "        vertical-align: middle;\n",
       "    }\n",
       "\n",
       "    .dataframe tbody tr th {\n",
       "        vertical-align: top;\n",
       "    }\n",
       "\n",
       "    .dataframe thead th {\n",
       "        text-align: right;\n",
       "    }\n",
       "</style>\n",
       "<table border=\"1\" class=\"dataframe\">\n",
       "  <thead>\n",
       "    <tr style=\"text-align: right;\">\n",
       "      <th></th>\n",
       "      <th>0</th>\n",
       "      <th>1</th>\n",
       "      <th>2</th>\n",
       "      <th>3</th>\n",
       "      <th>4</th>\n",
       "      <th>5</th>\n",
       "      <th>6</th>\n",
       "      <th>7</th>\n",
       "      <th>8</th>\n",
       "      <th>9</th>\n",
       "      <th>10</th>\n",
       "      <th>11</th>\n",
       "    </tr>\n",
       "  </thead>\n",
       "  <tbody>\n",
       "    <tr>\n",
       "      <th>EVELYN</th>\n",
       "      <td>33</td>\n",
       "      <td>13</td>\n",
       "      <td>71</td>\n",
       "      <td>32</td>\n",
       "      <td>25</td>\n",
       "      <td>27</td>\n",
       "      <td>27</td>\n",
       "      <td>32</td>\n",
       "      <td>56</td>\n",
       "      <td>77</td>\n",
       "      <td>44</td>\n",
       "      <td>20</td>\n",
       "    </tr>\n",
       "    <tr>\n",
       "      <th>FRANK</th>\n",
       "      <td>42</td>\n",
       "      <td>84</td>\n",
       "      <td>50</td>\n",
       "      <td>81</td>\n",
       "      <td>43</td>\n",
       "      <td>28</td>\n",
       "      <td>97</td>\n",
       "      <td>59</td>\n",
       "      <td>2</td>\n",
       "      <td>59</td>\n",
       "      <td>99</td>\n",
       "      <td>85</td>\n",
       "    </tr>\n",
       "    <tr>\n",
       "      <th>GEORGIA</th>\n",
       "      <td>13</td>\n",
       "      <td>94</td>\n",
       "      <td>2</td>\n",
       "      <td>87</td>\n",
       "      <td>94</td>\n",
       "      <td>96</td>\n",
       "      <td>27</td>\n",
       "      <td>19</td>\n",
       "      <td>23</td>\n",
       "      <td>66</td>\n",
       "      <td>50</td>\n",
       "      <td>21</td>\n",
       "    </tr>\n",
       "    <tr>\n",
       "      <th>HAROLD</th>\n",
       "      <td>0</td>\n",
       "      <td>104</td>\n",
       "      <td>2</td>\n",
       "      <td>2</td>\n",
       "      <td>0</td>\n",
       "      <td>3</td>\n",
       "      <td>8</td>\n",
       "      <td>7</td>\n",
       "      <td>100</td>\n",
       "      <td>5</td>\n",
       "      <td>8</td>\n",
       "      <td>9</td>\n",
       "    </tr>\n",
       "  </tbody>\n",
       "</table>\n",
       "</div>"
      ],
      "text/plain": [
       "         0    1   2   3   4   5   6   7    8   9   10  11\n",
       "EVELYN   33   13  71  32  25  27  27  32   56  77  44  20\n",
       "FRANK    42   84  50  81  43  28  97  59    2  59  99  85\n",
       "GEORGIA  13   94   2  87  94  96  27  19   23  66  50  21\n",
       "HAROLD    0  104   2   2   0   3   8   7  100   5   8   9"
      ]
     },
     "execution_count": 17,
     "metadata": {},
     "output_type": "execute_result"
    }
   ],
   "source": [
    "score_ballot_dictionary = {\n",
    "    'EVELYN': [33, 13, 71, 32, 25, 27, 27, 32, 56, 77, 44, 20],\n",
    "    'FRANK': [42, 84, 50, 81, 43, 28, 97, 59, 2, 59, 99, 85],\n",
    "    'GEORGIA': [13, 94, 2, 87, 94, 96, 27, 19, 23, 66, 50, 21],\n",
    "    'HAROLD': [0, 104, 2, 2, 0, 3, 8, 7, 100, 5, 8, 9]\n",
    "}\n",
    "\n",
    "score_ballot_df = pd.DataFrame(score_ballot_dictionary).T\n",
    "score_ballot_df"
   ]
  },
  {
   "cell_type": "markdown",
   "metadata": {},
   "source": [
    "## Define auxiliary functions to linearly scale score ballots to span a pre-defined range.\n",
    "\n",
    "Include a default case when a ballot has no variation."
   ]
  },
  {
   "cell_type": "code",
   "execution_count": 18,
   "metadata": {},
   "outputs": [
    {
     "data": {
      "text/html": [
       "<div>\n",
       "<style scoped>\n",
       "    .dataframe tbody tr th:only-of-type {\n",
       "        vertical-align: middle;\n",
       "    }\n",
       "\n",
       "    .dataframe tbody tr th {\n",
       "        vertical-align: top;\n",
       "    }\n",
       "\n",
       "    .dataframe thead th {\n",
       "        text-align: right;\n",
       "    }\n",
       "</style>\n",
       "<table border=\"1\" class=\"dataframe\">\n",
       "  <thead>\n",
       "    <tr style=\"text-align: right;\">\n",
       "      <th></th>\n",
       "      <th>0</th>\n",
       "      <th>1</th>\n",
       "      <th>2</th>\n",
       "      <th>3</th>\n",
       "      <th>4</th>\n",
       "      <th>5</th>\n",
       "      <th>6</th>\n",
       "      <th>7</th>\n",
       "      <th>8</th>\n",
       "      <th>9</th>\n",
       "      <th>10</th>\n",
       "      <th>11</th>\n",
       "    </tr>\n",
       "  </thead>\n",
       "  <tbody>\n",
       "    <tr>\n",
       "      <th>EVELYN</th>\n",
       "      <td>0.312500</td>\n",
       "      <td>0.000000</td>\n",
       "      <td>0.906250</td>\n",
       "      <td>0.296875</td>\n",
       "      <td>0.187500</td>\n",
       "      <td>0.218750</td>\n",
       "      <td>0.218750</td>\n",
       "      <td>0.296875</td>\n",
       "      <td>0.671875</td>\n",
       "      <td>1.000000</td>\n",
       "      <td>0.484375</td>\n",
       "      <td>0.109375</td>\n",
       "    </tr>\n",
       "    <tr>\n",
       "      <th>FRANK</th>\n",
       "      <td>0.412371</td>\n",
       "      <td>0.845361</td>\n",
       "      <td>0.494845</td>\n",
       "      <td>0.814433</td>\n",
       "      <td>0.422680</td>\n",
       "      <td>0.268041</td>\n",
       "      <td>0.979381</td>\n",
       "      <td>0.587629</td>\n",
       "      <td>0.000000</td>\n",
       "      <td>0.587629</td>\n",
       "      <td>1.000000</td>\n",
       "      <td>0.855670</td>\n",
       "    </tr>\n",
       "    <tr>\n",
       "      <th>GEORGIA</th>\n",
       "      <td>0.117021</td>\n",
       "      <td>0.978723</td>\n",
       "      <td>0.000000</td>\n",
       "      <td>0.904255</td>\n",
       "      <td>0.978723</td>\n",
       "      <td>1.000000</td>\n",
       "      <td>0.265957</td>\n",
       "      <td>0.180851</td>\n",
       "      <td>0.223404</td>\n",
       "      <td>0.680851</td>\n",
       "      <td>0.510638</td>\n",
       "      <td>0.202128</td>\n",
       "    </tr>\n",
       "    <tr>\n",
       "      <th>HAROLD</th>\n",
       "      <td>0.000000</td>\n",
       "      <td>1.000000</td>\n",
       "      <td>0.019231</td>\n",
       "      <td>0.019231</td>\n",
       "      <td>0.000000</td>\n",
       "      <td>0.028846</td>\n",
       "      <td>0.076923</td>\n",
       "      <td>0.067308</td>\n",
       "      <td>0.961538</td>\n",
       "      <td>0.048077</td>\n",
       "      <td>0.076923</td>\n",
       "      <td>0.086538</td>\n",
       "    </tr>\n",
       "  </tbody>\n",
       "</table>\n",
       "</div>"
      ],
      "text/plain": [
       "               0         1         2         3         4         5         6   \\\n",
       "EVELYN   0.312500  0.000000  0.906250  0.296875  0.187500  0.218750  0.218750   \n",
       "FRANK    0.412371  0.845361  0.494845  0.814433  0.422680  0.268041  0.979381   \n",
       "GEORGIA  0.117021  0.978723  0.000000  0.904255  0.978723  1.000000  0.265957   \n",
       "HAROLD   0.000000  1.000000  0.019231  0.019231  0.000000  0.028846  0.076923   \n",
       "\n",
       "               7         8         9         10        11  \n",
       "EVELYN   0.296875  0.671875  1.000000  0.484375  0.109375  \n",
       "FRANK    0.587629  0.000000  0.587629  1.000000  0.855670  \n",
       "GEORGIA  0.180851  0.223404  0.680851  0.510638  0.202128  \n",
       "HAROLD   0.067308  0.961538  0.048077  0.076923  0.086538  "
      ]
     },
     "execution_count": 18,
     "metadata": {},
     "output_type": "execute_result"
    }
   ],
   "source": [
    "def get_scaled_score_ballot(score_ballot, min=0, max=1):\n",
    "    score_ballot = score_ballot\n",
    "    max_score = np.max(score_ballot)\n",
    "    min_score = np.min(score_ballot)\n",
    "\n",
    "    score_range = max_score - min_score\n",
    "    #print(\"score range: \", score_range)\n",
    "\n",
    "    if score_range == 0:\n",
    "        scaled_score_ballot = [1/2 for _ in score_ballot]\n",
    "    else:\n",
    "        scaled_score_ballot = [min+max*(score - min_score)/score_range for score in score_ballot]\n",
    "    return scaled_score_ballot\n",
    "\n",
    "def get_scaled_score_ballot_df(score_ballot_df, min=0, max=1):\n",
    "    scaled_score_ballot_df = score_ballot_df.copy(deep=True)\n",
    "\n",
    "    for index, score_ballot_row in score_ballot_df.iterrows():\n",
    "        this_score_ballot = score_ballot_row.values\n",
    "        #print(this_score_ballot)\n",
    "        scaled_scores = get_scaled_score_ballot(this_score_ballot, min, max)\n",
    "        scaled_score_ballot_df.loc[index] = scaled_scores  # Update the row in the DataFrame\n",
    "\n",
    "    return scaled_score_ballot_df\n",
    "\n",
    "#print(get_scaled_score_ballot([27, 21, 25, 26, 17, 49, 65, 18, 45, 75, 9, 31]))\n",
    "#print(get_scaled_score_ballot(score_ballot_dictionary['STEPHEN']))\n",
    "scaled_score_ballot_df = get_scaled_score_ballot_df(score_ballot_df)\n",
    "scaled_score_ballot_df"
   ]
  },
  {
   "cell_type": "markdown",
   "metadata": {},
   "source": [
    "## Define a function to compute the asymmetric quantile normalized score values."
   ]
  },
  {
   "cell_type": "code",
   "execution_count": 19,
   "metadata": {},
   "outputs": [
    {
     "data": {
      "text/plain": [
       "[0.0,\n",
       " 0.12360937842728668,\n",
       " 0.19998824177029376,\n",
       " 0.21569721029409286,\n",
       " 0.24146144249751125,\n",
       " 0.2996345589662038,\n",
       " 0.36561246403985354,\n",
       " 0.4711767826108964,\n",
       " 0.5777285552035704,\n",
       " 0.6482017422216411,\n",
       " 0.9564733272731875,\n",
       " 1.0]"
      ]
     },
     "execution_count": 19,
     "metadata": {},
     "output_type": "execute_result"
    }
   ],
   "source": [
    "def get_quantile_normalized_values(score_ballot_df):\n",
    "    # Sort the values in each column\n",
    "    score_ballot_df = score_ballot_df.T\n",
    "    sorted_df = np.sort(score_ballot_df, axis=0)\n",
    "    \n",
    "    # Calculate the mean of each row across the sorted columns\n",
    "    mean_values = np.mean(sorted_df, axis=1)\n",
    "    \n",
    "    # Rank the values in the original dataframe\n",
    "    ranks = score_ballot_df.stack().groupby(score_ballot_df.rank(method='min').stack().astype(int)).mean()\n",
    "    \n",
    "    # Replace ranks with mean values\n",
    "    #normalized_df = score_ballot_df.rank(method='min').stack().astype(int).map(ranks).unstack()\n",
    "    #print(list(mean_values))\n",
    "    return list(mean_values)\n",
    "\n",
    "get_quantile_normalized_values(scaled_score_ballot_df)\n"
   ]
  },
  {
   "cell_type": "markdown",
   "metadata": {},
   "source": [
    "## Simply combine the linear scaling to compute asymmetric quantile normalized values over scaled ballots."
   ]
  },
  {
   "cell_type": "code",
   "execution_count": 20,
   "metadata": {},
   "outputs": [
    {
     "data": {
      "text/plain": [
       "array([0.        , 0.12360938, 0.19998824, 0.21569721, 0.24146144,\n",
       "       0.29963456, 0.36561246, 0.47117678, 0.57772856, 0.64820174,\n",
       "       0.95647333, 1.        ])"
      ]
     },
     "execution_count": 20,
     "metadata": {},
     "output_type": "execute_result"
    }
   ],
   "source": [
    "\n",
    "def get_quantile_normalized_scaled_values(score_ballot_df, min=0, max=1):\n",
    "    scaled_score_ballot_df = get_scaled_score_ballot_df(score_ballot_df, min, max)\n",
    "    return np.array(get_quantile_normalized_values(scaled_score_ballot_df))\n",
    "\n",
    "get_quantile_normalized_scaled_values(score_ballot_df)\n"
   ]
  },
  {
   "cell_type": "markdown",
   "metadata": {},
   "source": [
    "## Define a simple function to transform the asymmetric quantile normalized values into a symmetric version that preserves cancellation properties."
   ]
  },
  {
   "cell_type": "code",
   "execution_count": 21,
   "metadata": {},
   "outputs": [
    {
     "data": {
      "text/plain": [
       "[<matplotlib.lines.Line2D at 0x7f38af2db7f0>]"
      ]
     },
     "execution_count": 21,
     "metadata": {},
     "output_type": "execute_result"
    },
    {
     "data": {
      "image/png": "[encoded data removed]",
      "text/plain": [
       "<Figure size 432x288 with 1 Axes>"
      ]
     },
     "metadata": {
      "needs_background": "light"
     },
     "output_type": "display_data"
    }
   ],
   "source": [
    "def get_symmetric_scaled_quantile_normalized_values(score_ballot_df, min=0, max=1):\n",
    "    scaled_quantile_normalized_values = get_quantile_normalized_scaled_values(score_ballot_df, min, max)\n",
    "\n",
    "    num_values = len(scaled_quantile_normalized_values)\n",
    "\n",
    "    symmetric_scaled_quantile_normalized_values = [(scaled_quantile_normalized_values[k] + (max-scaled_quantile_normalized_values[(num_values -1) - k]))/2 for k in range(num_values)]\n",
    "\n",
    "    return symmetric_scaled_quantile_normalized_values\n",
    "\n",
    "plt.plot(get_symmetric_scaled_quantile_normalized_values(score_ballot_df))"
   ]
  },
  {
   "cell_type": "markdown",
   "metadata": {},
   "source": [
    "## Modify ordinary quantile normalization by replacing asymmetric quantile values with their symmetrical adjusted values.\n",
    "\n",
    "Adjustments are also made to account for repeated values. When values are tied in rank, they are assigned the mean of the values corresponding to the ranks they would normally represent if they were different. This still preserves symmetry and hence the desired cancellation properties."
   ]
  },
  {
   "cell_type": "code",
   "execution_count": 39,
   "metadata": {},
   "outputs": [
    {
     "name": "stdout",
     "output_type": "stream",
     "text": [
      "\n",
      "Original score ballots:\n",
      "          0    1   2   3   4   5   6   7    8   9   10  11\n",
      "EVELYN   33   13  71  32  25  27  27  32   56  77  44  20\n",
      "FRANK    42   84  50  81  43  28  97  59    2  59  99  85\n",
      "GEORGIA  13   94   2  87  94  96  27  19   23  66  50  21\n",
      "HAROLD    0  104   2   2   0   3   8   7  100   5   8   9\n",
      "\n",
      "Score ranking ballots:\n",
      "           0   1   2   3   4   5   6   7   8   9   10  11\n",
      "EVELYN    7   0  10   5   2   3   4   6   9  11   8   1\n",
      "FRANK     2   8   4   7   3   1  10   5   0   6  11   9\n",
      "GEORGIA   1   9   0   8  10  11   5   2   4   7   6   3\n",
      "HAROLD    0  11   2   3   1   4   7   6  10   5   8   9\n",
      "\n",
      "Normalized as if scores are unique:\n",
      "                 0         1         2         3         4         5         6   \\\n",
      "EVELYN   0.614858  0.000000  0.916432  0.467011  0.275893  0.318984  0.385142   \n",
      "FRANK    0.275893  0.681016  0.385142  0.614858  0.318984  0.083568  0.916432   \n",
      "GEORGIA  0.083568  0.724107  0.000000  0.681016  0.916432  1.000000  0.467011   \n",
      "HAROLD   0.000000  1.000000  0.275893  0.318984  0.083568  0.385142  0.614858   \n",
      "\n",
      "               7         8         9         10        11  \n",
      "EVELYN   0.532989  0.724107  1.000000  0.681016  0.083568  \n",
      "FRANK    0.467011  0.000000  0.532989  1.000000  0.724107  \n",
      "GEORGIA  0.275893  0.385142  0.614858  0.532989  0.318984  \n",
      "HAROLD   0.532989  0.916432  0.467011  0.681016  0.724107  \n",
      "\n",
      "Final ballot set: \n",
      "                0         1         2         3         4         5         6   \\\n",
      "EVELYN   0.614858  0.000000  0.916432  0.467011  0.275893  0.318984  0.385142   \n",
      "FRANK    0.275893  0.681016  0.385142  0.614858  0.318984  0.083568  0.916432   \n",
      "GEORGIA  0.083568  0.724107  0.000000  0.681016  0.916432  1.000000  0.467011   \n",
      "HAROLD   0.000000  1.000000  0.275893  0.318984  0.083568  0.385142  0.614858   \n",
      "\n",
      "               7         8         9         10        11  \n",
      "EVELYN   0.532989  0.724107  1.000000  0.681016  0.083568  \n",
      "FRANK    0.467011  0.000000  0.532989  1.000000  0.724107  \n",
      "GEORGIA  0.275893  0.385142  0.614858  0.532989  0.318984  \n",
      "HAROLD   0.532989  0.916432  0.467011  0.681016  0.724107  \n"
     ]
    }
   ],
   "source": [
    "def get_symmetric_scaled_quantile_normalized_score_ballot_df(score_ballot_df, min=0, max=1):\n",
    "    #print(score_ballot_df)\n",
    "    # Rank the values in each column\n",
    "    symmetric_scaled_quantile_normalized_score_values = get_symmetric_scaled_quantile_normalized_values(score_ballot_df, min, max)\n",
    "    #print((symmetric_scaled_quantile_normalized_score_values))\n",
    "    #print('\\n')\n",
    "\n",
    "    print(\"\\nOriginal score ballots:\\n\", score_ballot_df)\n",
    "\n",
    "    score_rankings_df = score_ballot_df.rank(axis=1, method='first').astype(int) -1\n",
    "    print(\"\\nScore ranking ballots:\\n \", score_rankings_df)\n",
    "    #print('\\n')\n",
    "    #print(score_ballot_df)\n",
    "\n",
    "    as_if_unique_normalized_df = score_rankings_df.applymap(lambda x: symmetric_scaled_quantile_normalized_score_values[x])\n",
    "    print(\"\\nNormalized as if scores are unique:\\n \", as_if_unique_normalized_df)\n",
    "\n",
    "    corrected_df = as_if_unique_normalized_df.copy()\n",
    "\n",
    "    for index, row in score_ballot_df.iterrows():\n",
    "        # Get the scores and their corresponding ranks from the original dataframe\n",
    "        scores_with_ranks = row.rank(method='min').astype(int) -1\n",
    "        #print(\"scores with ranks: \", scores_with_ranks.values)\n",
    "        unique_scores = row.unique()\n",
    "        \n",
    "        for score in unique_scores:\n",
    "            # Find the ranks (indices) associated with this score\n",
    "            ranks_for_score = scores_with_ranks[row == score].values\n",
    "            # Calculate the average of the symmetric scaled values for these ranks\n",
    "            avg_value = as_if_unique_normalized_df.loc[index, ranks_for_score].mean()\n",
    "            # Assign this average back to the corresponding locations in the corrected dataframe\n",
    "            corrected_df.loc[index, ranks_for_score] = avg_value\n",
    "\n",
    "    return corrected_df\n",
    "\n",
    "symmetric_scaled_quantile_normalized_score_ballot_df=get_symmetric_scaled_quantile_normalized_score_ballot_df(score_ballot_df)\n",
    "print(\"\\nFinal ballot set: \\n\", symmetric_scaled_quantile_normalized_score_ballot_df)\n",
    "#print(score_ballot_df)"
   ]
  },
  {
   "cell_type": "markdown",
   "metadata": {},
   "source": [
    "## Observe the election results by tallying symmetric quantile-normalized score values for each candidate.\n",
    "\n",
    "Here an average is computed."
   ]
  },
  {
   "cell_type": "code",
   "execution_count": 24,
   "metadata": {},
   "outputs": [
    {
     "data": {
      "image/png": "[encoded data removed]",
      "text/plain": [
       "<Figure size 432x288 with 1 Axes>"
      ]
     },
     "metadata": {
      "needs_background": "light"
     },
     "output_type": "display_data"
    }
   ],
   "source": [
    "column_averages = symmetric_scaled_quantile_normalized_score_ballot_df.mean(axis=0)\n",
    "column_averages\n",
    "plt.plot(column_averages)\n",
    "plt.title('Normalized Candidate Scores')\n",
    "plt.show()"
   ]
  }
 ],
 "metadata": {
  "kernelspec": {
   "display_name": "explore",
   "language": "python",
   "name": "python3"
  },
  "language_info": {
   "codemirror_mode": {
    "name": "ipython",
    "version": 3
   },
   "file_extension": ".py",
   "mimetype": "text/x-python",
   "name": "python",
   "nbconvert_exporter": "python",
   "pygments_lexer": "ipython3",
   "version": "3.6.15"
  }
 },
 "nbformat": 4,
 "nbformat_minor": 2
}
